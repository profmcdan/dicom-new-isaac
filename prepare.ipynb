{
 "cells": [
  {
   "cell_type": "code",
   "execution_count": 1,
   "metadata": {},
   "outputs": [],
   "source": [
    "import sys\n",
    "# sys.path.append('../')\n",
    "import numpy as np\n",
    "import pandas as pd\n",
    "import matplotlib.pyplot as plt\n",
    "%matplotlib inline"
   ]
  },
  {
   "cell_type": "code",
   "execution_count": 2,
   "metadata": {
    "scrolled": true
   },
   "outputs": [],
   "source": [
    "import radio\n",
    "from radio import batchflow as bf\n",
    "from radio import CTImagesMaskedBatch as CTIMB\n",
    "\n",
    "# read annotation\n",
    "nodules = pd.read_csv('data/annotations.csv')\n",
    "\n",
    "# create index and dataset\n",
    "lunaix = bf.FilesIndex(path='data/sub*/*.mhd', no_ext=True)\n",
    "lunaset = bf.Dataset(index=lunaix, batch_class=CTIMB)"
   ]
  },
  {
   "cell_type": "code",
   "execution_count": 3,
   "metadata": {},
   "outputs": [
    {
     "data": {
      "text/plain": [
       "(796, 88)"
      ]
     },
     "execution_count": 3,
     "metadata": {},
     "output_type": "execute_result"
    }
   ],
   "source": [
    "lunaset.split(0.9, shuffle=True)\n",
    "len(lunaset.train), len(lunaset.test)"
   ]
  },
  {
   "cell_type": "code",
   "execution_count": 4,
   "metadata": {},
   "outputs": [],
   "source": [
    "from radio.pipelines import split_dump\n",
    "\n",
    "SPACING = (1.7, 1.0, 1.0)  # spacing of scans after spacing unification\n",
    "SHAPE = (400, 512, 512)  # shape of scans after spacing unification\n",
    "PADDING = 'reflect'  # 'reflect' padding-mode produces the least amount of artefacts\n",
    "METHOD = 'pil-simd'  # robust resize-engine\n",
    "\n",
    "kwargs_default = dict(shape=SHAPE, spacing=SPACING, padding=PADDING, method=METHOD)"
   ]
  },
  {
   "cell_type": "code",
   "execution_count": 5,
   "metadata": {},
   "outputs": [],
   "source": [
    "crop_pipeline = split_dump(cancer_path='data/lunaset_split/test/cancer/', \n",
    "                           non_cancer_path='data/lunaset_split/test/ncancer/',\n",
    "                           nodules=nodules, fmt='raw', nodule_shape=(32, 64, 64),\n",
    "                           batch_size=20, **kwargs_default)"
   ]
  },
  {
   "cell_type": "code",
   "execution_count": null,
   "metadata": {},
   "outputs": [],
   "source": [
    "(lunaset.test >> crop_pipeline).run()"
   ]
  },
  {
   "cell_type": "code",
   "execution_count": null,
   "metadata": {},
   "outputs": [],
   "source": []
  }
 ],
 "metadata": {
  "kernelspec": {
   "display_name": "Python 3",
   "language": "python",
   "name": "python3"
  },
  "language_info": {
   "codemirror_mode": {
    "name": "ipython",
    "version": 3
   },
   "file_extension": ".py",
   "mimetype": "text/x-python",
   "name": "python",
   "nbconvert_exporter": "python",
   "pygments_lexer": "ipython3",
   "version": "3.6.8"
  }
 },
 "nbformat": 4,
 "nbformat_minor": 2
}
